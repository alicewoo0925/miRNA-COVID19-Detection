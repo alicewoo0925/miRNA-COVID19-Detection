{
  "nbformat": 4,
  "nbformat_minor": 0,
  "metadata": {
    "colab": {
      "provenance": [],
      "authorship_tag": "ABX9TyOoZoPU2oJIhrldIB5FaqUe",
      "include_colab_link": true
    },
    "kernelspec": {
      "name": "python3",
      "display_name": "Python 3"
    },
    "language_info": {
      "name": "python"
    }
  },
  "cells": [
    {
      "cell_type": "markdown",
      "metadata": {
        "id": "view-in-github",
        "colab_type": "text"
      },
      "source": [
        "<a href=\"https://colab.research.google.com/github/alicewoo0925/miRNA-COVID19detection/blob/main/RandomForest.ipynb\" target=\"_parent\"><img src=\"https://colab.research.google.com/assets/colab-badge.svg\" alt=\"Open In Colab\"/></a>"
      ]
    },
    {
      "cell_type": "markdown",
      "source": [
        "# Set Up"
      ],
      "metadata": {
        "id": "jVXfhXncUNoI"
      }
    },
    {
      "cell_type": "code",
      "execution_count": null,
      "metadata": {
        "id": "iup6gm8qTtkM"
      },
      "outputs": [],
      "source": [
        "# import modules\n",
        "import os\n",
        "from google.colab import files\n",
        "from google.colab import drive\n",
        "import numpy as np\n",
        "import pandas as pd\n",
        "\n",
        "from sklearn.model_selection import train_test_split # to split the dataset into train and test\n",
        "from sklearn.model_selection import StratifiedKFold # stratified k-fold\n",
        "from sklearn import ensemble # random forest\n",
        "from sklearn.decomposition import PCA\n",
        "\n",
        "from sklearn.metrics import classification_report, confusion_matrix"
      ]
    },
    {
      "cell_type": "markdown",
      "source": [
        "# Train and Evaluation"
      ],
      "metadata": {
        "id": "f2IAqR_1UPhA"
      }
    },
    {
      "cell_type": "code",
      "source": [
        "def getResult(y_test, prediction):\n",
        "  print(classification_report(y_test, prediction)) # classification report\n",
        "\n",
        "  #confusion matrix\n",
        "  CM = confusion_matrix(y_test, prediction)\n",
        "  CM = pd.DataFrame(confusion_matrix(y_test, prediction))\n",
        "  CM.set_axis(['Mild','Moderate','Negative Control','Severe','Severe Negative'], axis=1, inplace=True)\n",
        "  CM.set_axis(['Mild','Moderate','Negative Control','Severe','Severe Negative'], axis=0, inplace=True)\n",
        "  print(CM)"
      ],
      "metadata": {
        "id": "9V_Xlbc-UFX8"
      },
      "execution_count": null,
      "outputs": []
    },
    {
      "cell_type": "markdown",
      "source": [
        "## Full Dataset"
      ],
      "metadata": {
        "id": "YFMAMns_UXv8"
      }
    },
    {
      "cell_type": "code",
      "source": [
        "# split the dataset\n",
        "X_train, X_test, Y_train, Y_test = train_test_split(\n",
        "    df_clean.loc[:, df_clean.columns != 'Target'], # variables X include every columns except Target\n",
        "    df_clean['Target'], # Y is target column\n",
        "    test_size = 0.2) # 80% for train and 20% for test"
      ],
      "metadata": {
        "id": "9gnWjuSpUF8_"
      },
      "execution_count": null,
      "outputs": []
    },
    {
      "cell_type": "code",
      "source": [
        "# random forest with full dataset\n",
        "learner = ensemble.RandomForestClassifier()\n",
        "model = learner.fit(X_train,Y_train)\n",
        "prediction = model.predict(X_test)\n",
        "getResult(Y_test,prediction)"
      ],
      "metadata": {
        "id": "UPIiJkmZUcJI"
      },
      "execution_count": null,
      "outputs": []
    },
    {
      "cell_type": "markdown",
      "source": [
        "## Selected Features by Random Forest + SMOTE"
      ],
      "metadata": {
        "id": "niyWdMjaUdDR"
      }
    },
    {
      "cell_type": "code",
      "source": [
        "# 1000 RF features with 4 max depth\n",
        "# split into train and test\n",
        "X_train, X_test, Y_train, Y_test = train_test_split(\n",
        "    X_smote_1k, # variables X include every columns except Target\n",
        "    Y_smote_1k,\n",
        "    test_size = 0.2,\n",
        "    random_state=30)\n",
        "\n",
        "# build the model\n",
        "learner = ensemble.RandomForestClassifier(n_estimators=1000, max_depth=4, random_state=0)\n",
        "model = learner.fit(X_train,Y_train)\n",
        "prediction = model.predict(X_test)\n",
        "getResult(Y_test,prediction)"
      ],
      "metadata": {
        "id": "4IlyZMjdUpAq"
      },
      "execution_count": null,
      "outputs": []
    },
    {
      "cell_type": "code",
      "source": [
        "# 500 RF features with 4 max depth\n",
        "# split into train and test\n",
        "X_train, X_test, Y_train, Y_test = train_test_split(\n",
        "    X_smote_500, # variables X include every columns except Target\n",
        "    Y_smote_500,\n",
        "    test_size = 0.2,\n",
        "    random_state=30)\n",
        "\n",
        "# build the model\n",
        "learner = ensemble.RandomForestClassifier(n_estimators=500, max_depth=4, random_state=0)\n",
        "model = learner.fit(X_train,Y_train)\n",
        "prediction = model.predict(X_test)\n",
        "getResult(Y_test,prediction)"
      ],
      "metadata": {
        "id": "0ZKcdkCzJFZD"
      },
      "execution_count": null,
      "outputs": []
    },
    {
      "cell_type": "code",
      "source": [
        "# 1000 RF features with 10 max depth\n",
        "# split into train and test\n",
        "X_train, X_test, Y_train, Y_test = train_test_split(\n",
        "    X_smote_10d, # variables X include every columns except Target\n",
        "    Y_smote_10d,\n",
        "    test_size = 0.2,\n",
        "    random_state=30)\n",
        "\n",
        "# build the model\n",
        "learner = ensemble.RandomForestClassifier(n_estimators=1000, max_depth=10, random_state=0)\n",
        "model = learner.fit(X_train,Y_train)\n",
        "prediction = model.predict(X_test)\n",
        "getResult(Y_test,prediction)"
      ],
      "metadata": {
        "id": "-d0-mWibJQOF"
      },
      "execution_count": null,
      "outputs": []
    },
    {
      "cell_type": "markdown",
      "source": [
        "# Stratified K-Fold"
      ],
      "metadata": {
        "id": "_imUzdIhJdfW"
      }
    },
    {
      "cell_type": "markdown",
      "source": [
        "## 1000 RF features with 4 max depth"
      ],
      "metadata": {
        "id": "2skT6a72Jmqd"
      }
    },
    {
      "cell_type": "code",
      "source": [
        "# Create StratifiedKFold\n",
        "skf = StratifiedKFold(n_splits=5, shuffle=True, random_state=1)\n",
        "clf = ensemble.RandomForestClassifier(n_estimators=1000, max_depth=4, random_state=0)"
      ],
      "metadata": {
        "id": "TE8xTIZaJWkd"
      },
      "execution_count": null,
      "outputs": []
    },
    {
      "cell_type": "code",
      "source": [
        "accu_stratified = []\n",
        "cr = []\n",
        "cm = []\n",
        "res_list = []\n",
        "\n",
        "for train_index, test_index in skf.split(X_smote_1k, Y_smote_1k):\n",
        "    x_train_fold, x_test_fold = X_smote_1k.iloc[train_index], X_smote_1k.iloc[test_index]\n",
        "    y_train_fold, y_test_fold = Y_smote_1k.iloc[train_index], Y_smote_1k.iloc[test_index]\n",
        "\n",
        "    # train the model with each fold\n",
        "    clf.fit(x_train_fold, y_train_fold)\n",
        "\n",
        "    # get the accuracy\n",
        "    accu_stratified.append(clf.score(x_test_fold, y_test_fold))\n",
        "\n",
        "    # predict using the test set\n",
        "    prediction = clf.predict(x_test_fold)\n",
        "\n",
        "    # get the classification report\n",
        "    cr.append(classification_report(y_test_fold,prediction))\n",
        "\n",
        "    # create confusion matrix\n",
        "    cm.append(confusion_matrix(y_test_fold,prediction))\n",
        "\n",
        "    res = []\n",
        "    for l in ['Mild','Moderate','Negative Control','Severe','Severe Negative']:\n",
        "      prec,recall,_,_ = precision_recall_fscore_support(np.array(y_test_fold)==l,\n",
        "                                                      np.array(prediction)==l,\n",
        "                                                      pos_label=True,average=None)\n",
        "      res.append([l,recall[0],recall[1]])\n",
        "    res_list.append(res)\n",
        "\n",
        "print('\\nMax Accuracy:', max(accu_stratified)*100, '%')\n",
        "print('\\nMin Accuracy:', min(accu_stratified)*100, '%')\n",
        "print('\\nAverage Accuracy:', np.mean(accu_stratified)*100, '%')"
      ],
      "metadata": {
        "id": "gLFhg2yrJjcG"
      },
      "execution_count": null,
      "outputs": []
    },
    {
      "cell_type": "code",
      "source": [
        "accu_stratified"
      ],
      "metadata": {
        "id": "_QN370VbKZpY"
      },
      "execution_count": null,
      "outputs": []
    },
    {
      "cell_type": "code",
      "source": [
        "# classification report (highest accuracy)\n",
        "print(cr[1])"
      ],
      "metadata": {
        "id": "UYmFNjz4KaW8"
      },
      "execution_count": null,
      "outputs": []
    },
    {
      "cell_type": "code",
      "source": [
        "# confusion matrix (highest accuracy)\n",
        "CM = pd.DataFrame(cm[1])\n",
        "CM.set_axis(['Mild','Moderate','Negative Control','Severe','Severe Negative'], axis=1, inplace=True)\n",
        "CM.set_axis(['Mild','Moderate','Negative Control','Severe','Severe Negative'], axis=0, inplace=True)\n",
        "print(CM)"
      ],
      "metadata": {
        "id": "BMFZ1sa1KcEe"
      },
      "execution_count": null,
      "outputs": []
    },
    {
      "cell_type": "code",
      "source": [
        "# sensitivity and specificity (highest accuracy)\n",
        "pd.DataFrame(res_list[1],columns = ['target','sensitivity','specificity'])"
      ],
      "metadata": {
        "id": "dvH9yFVEKc_G"
      },
      "execution_count": null,
      "outputs": []
    },
    {
      "cell_type": "code",
      "source": [
        "# classification report (lowest accuracy)\n",
        "print(cr[4])"
      ],
      "metadata": {
        "id": "ZmeH46UkKfLl"
      },
      "execution_count": null,
      "outputs": []
    },
    {
      "cell_type": "code",
      "source": [
        "# confusion matrix (lowest accuracy)\n",
        "CM = pd.DataFrame(cm[4])\n",
        "CM.set_axis(['Mild','Moderate','Negative Control','Severe','Severe Negative'], axis=1, inplace=True)\n",
        "CM.set_axis(['Mild','Moderate','Negative Control','Severe','Severe Negative'], axis=0, inplace=True)\n",
        "print(CM)"
      ],
      "metadata": {
        "id": "NRhOym0CKiOx"
      },
      "execution_count": null,
      "outputs": []
    },
    {
      "cell_type": "code",
      "source": [
        "# sensitivity and specificity (lowest accuracy)\n",
        "pd.DataFrame(res_list[4],columns = ['target','sensitivity','specificity'])"
      ],
      "metadata": {
        "id": "xG98Z8HvKjcE"
      },
      "execution_count": null,
      "outputs": []
    },
    {
      "cell_type": "markdown",
      "source": [
        "## 1000 RF features with 10 max depth"
      ],
      "metadata": {
        "id": "s5jQMGesJsvE"
      }
    },
    {
      "cell_type": "code",
      "source": [
        "# Create StratifiedKFold\n",
        "skf = StratifiedKFold(n_splits=5, shuffle=True, random_state=1)\n",
        "clf = ensemble.RandomForestClassifier(n_estimators=1000, max_depth=10, random_state=0)"
      ],
      "metadata": {
        "id": "-shtPmHWJvvF"
      },
      "execution_count": null,
      "outputs": []
    },
    {
      "cell_type": "code",
      "source": [
        "accu_stratified = []\n",
        "cr = []\n",
        "cm = []\n",
        "res_list = []\n",
        "\n",
        "for train_index, test_index in skf.split(X_smote_10d, Y_smote_10d):\n",
        "    # split the dataset\n",
        "    x_train_fold, x_test_fold = X_smote_10d.iloc[train_index], X_smote_10d.iloc[test_index]\n",
        "    y_train_fold, y_test_fold = Y_smote_10d.iloc[train_index], Y_smote_10d.iloc[test_index]\n",
        "\n",
        "    # train the model with each fold\n",
        "    clf.fit(x_train_fold, y_train_fold)\n",
        "\n",
        "    # get the accuracy\n",
        "    accu_stratified.append(clf.score(x_test_fold, y_test_fold))\n",
        "\n",
        "    # predict using the test set\n",
        "    prediction = clf.predict(x_test_fold)\n",
        "\n",
        "    # get the classification report\n",
        "    cr.append(classification_report(y_test_fold,prediction))\n",
        "\n",
        "    # create confusion matrix\n",
        "    cm.append(confusion_matrix(y_test_fold,prediction))\n",
        "\n",
        "    res = []\n",
        "    for l in ['Mild','Moderate','Negative Control','Severe','Severe Negative']:\n",
        "      prec,recall,_,_ = precision_recall_fscore_support(np.array(y_test_fold)==l,\n",
        "                                                      np.array(prediction)==l,\n",
        "                                                      pos_label=True,average=None)\n",
        "      res.append([l,recall[0],recall[1]])\n",
        "    res_list.append(res)\n",
        "\n",
        "print('\\nMax Accuracy:', max(accu_stratified)*100, '%')\n",
        "print('\\nMin Accuracy:', min(accu_stratified)*100, '%')\n",
        "print('\\nAverage Accuracy:', np.mean(accu_stratified)*100, '%')"
      ],
      "metadata": {
        "id": "57wm3n2UJ3yS"
      },
      "execution_count": null,
      "outputs": []
    },
    {
      "cell_type": "code",
      "source": [
        "accu_stratified"
      ],
      "metadata": {
        "id": "dKo9vUxqKMjO"
      },
      "execution_count": null,
      "outputs": []
    },
    {
      "cell_type": "code",
      "source": [
        "# classification report (highest accuracy)\n",
        "print(cr[1])"
      ],
      "metadata": {
        "id": "aTvHZ6NpKPWu"
      },
      "execution_count": null,
      "outputs": []
    },
    {
      "cell_type": "code",
      "source": [
        "# confusion matrix (highest accuracy)\n",
        "CM = pd.DataFrame(cm[1])\n",
        "CM.set_axis(['Mild','Moderate','Negative Control','Severe','Severe Negative'], axis=1, inplace=True)\n",
        "CM.set_axis(['Mild','Moderate','Negative Control','Severe','Severe Negative'], axis=0, inplace=True)\n",
        "print(CM)"
      ],
      "metadata": {
        "id": "Lf1XbdnbKQ2S"
      },
      "execution_count": null,
      "outputs": []
    },
    {
      "cell_type": "code",
      "source": [
        "# sensitivity and specificity (highest accuracy)\n",
        "pd.DataFrame(res_list[1],columns = ['target','sensitivity','specificity'])"
      ],
      "metadata": {
        "id": "UPOfRff1KTFF"
      },
      "execution_count": null,
      "outputs": []
    },
    {
      "cell_type": "code",
      "source": [
        "# classification report (lowest accuracy)\n",
        "print(cr[4])"
      ],
      "metadata": {
        "id": "8QqBKycZKUe6"
      },
      "execution_count": null,
      "outputs": []
    },
    {
      "cell_type": "code",
      "source": [
        "# confusion matrix (lowest accuracy)\n",
        "CM = pd.DataFrame(cm[4])\n",
        "CM.set_axis(['Mild','Moderate','Negative Control','Severe','Severe Negative'], axis=1, inplace=True)\n",
        "CM.set_axis(['Mild','Moderate','Negative Control','Severe','Severe Negative'], axis=0, inplace=True)\n",
        "print(CM)"
      ],
      "metadata": {
        "id": "KbjDuM-rKVk3"
      },
      "execution_count": null,
      "outputs": []
    },
    {
      "cell_type": "code",
      "source": [
        "# sensitivity and specificity (lowest accuracy)\n",
        "pd.DataFrame(res_list[4],columns = ['target','sensitivity','specificity'])"
      ],
      "metadata": {
        "id": "6Chu4KyZKnYf"
      },
      "execution_count": null,
      "outputs": []
    }
  ]
}