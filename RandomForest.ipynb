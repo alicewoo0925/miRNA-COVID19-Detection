{
  "nbformat": 4,
  "nbformat_minor": 0,
  "metadata": {
    "colab": {
      "provenance": [],
      "authorship_tag": "ABX9TyNQ3zpPU1A3HPSxABkxNXRR",
      "include_colab_link": true
    },
    "kernelspec": {
      "name": "python3",
      "display_name": "Python 3"
    },
    "language_info": {
      "name": "python"
    }
  },
  "cells": [
    {
      "cell_type": "markdown",
      "metadata": {
        "id": "view-in-github",
        "colab_type": "text"
      },
      "source": [
        "<a href=\"https://colab.research.google.com/github/alicewoo0925/miRNA-COVID19detection/blob/main/RandomForest.ipynb\" target=\"_parent\"><img src=\"https://colab.research.google.com/assets/colab-badge.svg\" alt=\"Open In Colab\"/></a>"
      ]
    },
    {
      "cell_type": "markdown",
      "source": [
        "# Set Up"
      ],
      "metadata": {
        "id": "jVXfhXncUNoI"
      }
    },
    {
      "cell_type": "code",
      "execution_count": null,
      "metadata": {
        "id": "iup6gm8qTtkM"
      },
      "outputs": [],
      "source": [
        "# import modules\n",
        "import os\n",
        "from google.colab import files\n",
        "from google.colab import drive\n",
        "import numpy as np\n",
        "import pandas as pd\n",
        "\n",
        "from sklearn.model_selection import train_test_split # to split the dataset into train and test\n",
        "from sklearn.model_selection import StratifiedKFold # stratified k-fold\n",
        "from sklearn import ensemble # random forest\n",
        "from sklearn.decomposition import PCA\n",
        "\n",
        "from sklearn.metrics import classification_report, confusion_matrix"
      ]
    },
    {
      "cell_type": "markdown",
      "source": [
        "# Train and Evaluation"
      ],
      "metadata": {
        "id": "f2IAqR_1UPhA"
      }
    },
    {
      "cell_type": "code",
      "source": [
        "def getResult(y_test, prediction):\n",
        "  print(classification_report(y_test, prediction)) # classification report\n",
        "\n",
        "  #confusion matrix\n",
        "  CM = confusion_matrix(y_test, prediction)\n",
        "  CM = pd.DataFrame(confusion_matrix(y_test, prediction))\n",
        "  CM.set_axis(['Mild','Moderate','Negative Control','Severe','Severe Negative'], axis=1, inplace=True)\n",
        "  CM.set_axis(['Mild','Moderate','Negative Control','Severe','Severe Negative'], axis=0, inplace=True)\n",
        "  print(CM)"
      ],
      "metadata": {
        "id": "9V_Xlbc-UFX8"
      },
      "execution_count": null,
      "outputs": []
    },
    {
      "cell_type": "markdown",
      "source": [
        "## Full Dataset"
      ],
      "metadata": {
        "id": "YFMAMns_UXv8"
      }
    },
    {
      "cell_type": "code",
      "source": [
        "# split the dataset\n",
        "X_train, X_test, Y_train, Y_test = train_test_split(\n",
        "    df_clean.loc[:, df_clean.columns != 'Target'], # variables X include every columns except Target\n",
        "    df_clean['Target'], # Y is target column\n",
        "    test_size = 0.2) # 80% for train and 20% for test"
      ],
      "metadata": {
        "id": "9gnWjuSpUF8_"
      },
      "execution_count": null,
      "outputs": []
    },
    {
      "cell_type": "code",
      "source": [
        "# random forest with full dataset\n",
        "learner = ensemble.RandomForestClassifier()\n",
        "model = learner.fit(X_train,Y_train)\n",
        "prediction = model.predict(X_test)\n",
        "getResult(Y_test,prediction)"
      ],
      "metadata": {
        "id": "UPIiJkmZUcJI"
      },
      "execution_count": null,
      "outputs": []
    },
    {
      "cell_type": "markdown",
      "source": [
        "## Selected Features by Random Forest"
      ],
      "metadata": {
        "id": "niyWdMjaUdDR"
      }
    },
    {
      "cell_type": "code",
      "source": [],
      "metadata": {
        "id": "4IlyZMjdUpAq"
      },
      "execution_count": null,
      "outputs": []
    },
    {
      "cell_type": "markdown",
      "source": [
        "## SMOTE Data"
      ],
      "metadata": {
        "id": "yLOe9acTUr-Y"
      }
    },
    {
      "cell_type": "code",
      "source": [],
      "metadata": {
        "id": "vAOnOtCMUybz"
      },
      "execution_count": null,
      "outputs": []
    }
  ]
}