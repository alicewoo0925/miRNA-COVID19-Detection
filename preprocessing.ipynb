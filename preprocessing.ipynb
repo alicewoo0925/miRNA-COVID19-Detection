{
  "nbformat": 4,
  "nbformat_minor": 0,
  "metadata": {
    "colab": {
      "provenance": [],
      "authorship_tag": "ABX9TyOzER7OiGAY8KRll+MB23JF",
      "include_colab_link": true
    },
    "kernelspec": {
      "name": "python3",
      "display_name": "Python 3"
    },
    "language_info": {
      "name": "python"
    }
  },
  "cells": [
    {
      "cell_type": "markdown",
      "metadata": {
        "id": "view-in-github",
        "colab_type": "text"
      },
      "source": [
        "<a href=\"https://colab.research.google.com/github/alicewoo0925/miRNA-COVID19detection/blob/main/preprocessing.ipynb\" target=\"_parent\"><img src=\"https://colab.research.google.com/assets/colab-badge.svg\" alt=\"Open In Colab\"/></a>"
      ]
    },
    {
      "cell_type": "markdown",
      "source": [
        "# Set Up"
      ],
      "metadata": {
        "id": "QwaMPc2xQFKS"
      }
    },
    {
      "cell_type": "code",
      "execution_count": null,
      "metadata": {
        "id": "usQ6D_txPZh_"
      },
      "outputs": [],
      "source": [
        "!pip install --upgrade xlrd"
      ]
    },
    {
      "cell_type": "code",
      "source": [
        "# import modules\n",
        "import os\n",
        "from google.colab import files\n",
        "from google.colab import drive\n",
        "import numpy as np\n",
        "import pandas as pd\n",
        "\n",
        "from sklearn.impute import MissingIndicator # to find missing values\n",
        "from sklearn.model_selection import train_test_split # to split the dataset into train and test\n",
        "from sklearn.model_selection import StratifiedKFold # stratified k-fold\n",
        "from sklearn.feature_selection import SelectKBest, f_classif # univariate feature selection (ANOVA)\n",
        "from sklearn import ensemble # random forest\n",
        "from sklearn.decomposition import PCA\n",
        "\n",
        "from imblearn.over_sampling import SMOTE # synthetic minority oversampling technique"
      ],
      "metadata": {
        "id": "IwzbnsHXQt0o"
      },
      "execution_count": null,
      "outputs": []
    },
    {
      "cell_type": "code",
      "source": [
        "# link to Google Drive\n",
        "drive.mount('/content/gdrive')"
      ],
      "metadata": {
        "id": "pKAeg9hfQzgR"
      },
      "execution_count": null,
      "outputs": []
    },
    {
      "cell_type": "markdown",
      "source": [
        "# Dataset"
      ],
      "metadata": {
        "id": "g8DKCIRiQ10i"
      }
    },
    {
      "cell_type": "code",
      "source": [
        "# df1 (miRNA sequencing data)\n",
        "df1 = pd.read_excel('GSE178246_Median_Normalized_Data.xls')"
      ],
      "metadata": {
        "id": "mkRsYZC6Q4r5"
      },
      "execution_count": null,
      "outputs": []
    },
    {
      "cell_type": "code",
      "source": [
        "# df2 (labels)\n",
        "df2 = pd.read_excel('GSE178246_series_matrix.xlsx')"
      ],
      "metadata": {
        "id": "UvD3hAP4RAkh"
      },
      "execution_count": null,
      "outputs": []
    },
    {
      "cell_type": "code",
      "source": [
        "# flip the dataframe 1\n",
        "df1 = df1.transpose()\n",
        "\n",
        "# reset the index\n",
        "df1.reset_index(drop=False,inplace=True)\n",
        "\n",
        "# reset the column names\n",
        "df1.columns = df1.iloc[0]\n",
        "df1 = df1.iloc[1:]"
      ],
      "metadata": {
        "id": "T0SWfmKKRKeh"
      },
      "execution_count": null,
      "outputs": []
    },
    {
      "cell_type": "code",
      "source": [
        "# select sample name and target only\n",
        "df2 = df2.iloc[[37,46],:]\n",
        "\n",
        "# flip the dataframe 2\n",
        "df2 = df2.transpose()\n",
        "\n",
        "# reset the column names\n",
        "df2.columns = ['Sample Name','Target']\n",
        "df2 = df2.iloc[1:]\n",
        "\n",
        "# reset the index\n",
        "df2.reset_index(drop=True,inplace=True)"
      ],
      "metadata": {
        "id": "ea4OmkYvRM3A"
      },
      "execution_count": null,
      "outputs": []
    },
    {
      "cell_type": "code",
      "source": [
        "# merge two datasets together\n",
        "df_merged = pd.merge(df1,df2,on='Sample Name')"
      ],
      "metadata": {
        "id": "0cEqjL2URTfW"
      },
      "execution_count": null,
      "outputs": []
    },
    {
      "cell_type": "markdown",
      "source": [
        "# Data Cleaning"
      ],
      "metadata": {
        "id": "lN4VmDR7R4Ec"
      }
    },
    {
      "cell_type": "code",
      "source": [
        "# remove a prefix \"grouping: \" in Target column\n",
        "df_clean= df_merged.replace('grouping: ','',regex=True)\n",
        "\n",
        "# drop columns with missing values\n",
        "df_clean = df_clean.dropna(axis=0)\n",
        "\n",
        "# drop protein marker columns\n",
        "df_clean = df_clean.drop(df_clean.filter(regex='HK_').columns,axis=1)\n",
        "\n",
        "# drop sample name column\n",
        "df_clean = df_clean.drop(labels = 'Sample Name', axis =1)\n",
        "\n",
        "# drop Median Normalized Total Counts column\n",
        "df_clean = df_clean.drop(labels = 'Median Normalized Total Counts', axis =1)\n",
        "\n",
        "# remove control, severe (timepoint 3) and severe (timepoint 5)\n",
        "control_group = df_clean[df_clean['Target']== 'Control'].index\n",
        "severe_tp3_group = df_clean[df_clean['Target']== 'Severe (Timepoint 3)'].index\n",
        "severe_tp5_group = df_clean[df_clean['Target']== 'Severe (Timepoint 5)'].index\n",
        "\n",
        "df_clean = df_clean.drop(control_group)\n",
        "df_clean = df_clean.drop(severe_tp3_group)\n",
        "df_clean = df_clean.drop(severe_tp5_group)"
      ],
      "metadata": {
        "id": "RB38WcdkR-Zh"
      },
      "execution_count": null,
      "outputs": []
    }
  ]
}